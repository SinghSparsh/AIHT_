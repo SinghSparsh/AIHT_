{
  "cells": [
    {
      "cell_type": "markdown",
      "source": [
        "# Demonstrating vector,dataframe and array data structures"
      ],
      "metadata": {
        "id": "AsF-pu5rpro-"
      }
    },
    {
      "cell_type": "code",
      "execution_count": null,
      "metadata": {
        "colab": {
          "base_uri": "https://localhost:8080/"
        },
        "id": "QWF-Qii-9oNX",
        "outputId": "32991348-28d8-4e83-8347-1a836d45423f"
      },
      "outputs": [
        {
          "output_type": "stream",
          "name": "stdout",
          "text": [
            "   Name Language Age\n",
            "1 Amiya        R  22\n",
            "2   Raj   Python  25\n",
            "3 Asish     Java  45\n"
          ]
        }
      ],
      "source": [
        "# R program to illustrate dataframe\n",
        "\n",
        "# A vector which is a character vector\n",
        "Name = c(\"Amiya\", \"Raj\", \"Asish\")\n",
        "\n",
        "# A vector which is a character vector\n",
        "Language = c(\"R\", \"Python\", \"Java\")\n",
        "\n",
        "# A vector which is a numeric vector\n",
        "Age = c(22, 25, 45)\n",
        "\n",
        "# Created dataframe using data.frame command\n",
        "df = data.frame(Name, Language, Age)\n",
        "\n",
        "print(df)\n"
      ]
    },
    {
      "cell_type": "code",
      "execution_count": null,
      "metadata": {
        "id": "9BjC-5VEIaxf"
      },
      "outputs": [],
      "source": [
        "#Creating array of 2x3 dimensions\n",
        "a = array(c(10,20,30,40,50),dim = c(2,3,1))"
      ]
    },
    {
      "cell_type": "code",
      "execution_count": null,
      "metadata": {
        "colab": {
          "base_uri": "https://localhost:8080/"
        },
        "id": "xanHBJdFI3Lm",
        "outputId": "df453741-1995-4b47-e4ff-3c4de405ea82"
      },
      "outputs": [
        {
          "output_type": "stream",
          "name": "stdout",
          "text": [
            ", , 1\n",
            "\n",
            "     [,1] [,2] [,3]\n",
            "[1,]   10   30   50\n",
            "[2,]   20   40   10\n",
            "\n"
          ]
        }
      ],
      "source": [
        "print(a)"
      ]
    },
    {
      "cell_type": "markdown",
      "source": [
        "# Linear Regression Implementation"
      ],
      "metadata": {
        "id": "U8WlTYcFp4ES"
      }
    },
    {
      "cell_type": "code",
      "execution_count": null,
      "metadata": {
        "colab": {
          "base_uri": "https://localhost:8080/",
          "height": 1000
        },
        "id": "cODaDsGpI-sk",
        "outputId": "ca167e9f-2209-45b3-f9ea-b8bcc18dcf58"
      },
      "outputs": [
        {
          "data": {
            "text/html": [
              "<table class=\"dataframe\">\n",
              "<caption>A data.frame: 9 × 2</caption>\n",
              "<thead>\n",
              "\t<tr><th scope=col>weight</th><th scope=col>size</th></tr>\n",
              "\t<tr><th scope=col>&lt;dbl&gt;</th><th scope=col>&lt;dbl&gt;</th></tr>\n",
              "</thead>\n",
              "<tbody>\n",
              "\t<tr><td>0.9</td><td>1.4</td></tr>\n",
              "\t<tr><td>1.8</td><td>2.6</td></tr>\n",
              "\t<tr><td>2.4</td><td>1.0</td></tr>\n",
              "\t<tr><td>3.5</td><td>3.7</td></tr>\n",
              "\t<tr><td>3.9</td><td>5.5</td></tr>\n",
              "\t<tr><td>4.4</td><td>3.2</td></tr>\n",
              "\t<tr><td>5.1</td><td>3.0</td></tr>\n",
              "\t<tr><td>5.6</td><td>4.9</td></tr>\n",
              "\t<tr><td>6.3</td><td>6.3</td></tr>\n",
              "</tbody>\n",
              "</table>\n"
            ],
            "text/latex": "A data.frame: 9 × 2\n\\begin{tabular}{ll}\n weight & size\\\\\n <dbl> & <dbl>\\\\\n\\hline\n\t 0.9 & 1.4\\\\\n\t 1.8 & 2.6\\\\\n\t 2.4 & 1.0\\\\\n\t 3.5 & 3.7\\\\\n\t 3.9 & 5.5\\\\\n\t 4.4 & 3.2\\\\\n\t 5.1 & 3.0\\\\\n\t 5.6 & 4.9\\\\\n\t 6.3 & 6.3\\\\\n\\end{tabular}\n",
            "text/markdown": "\nA data.frame: 9 × 2\n\n| weight &lt;dbl&gt; | size &lt;dbl&gt; |\n|---|---|\n| 0.9 | 1.4 |\n| 1.8 | 2.6 |\n| 2.4 | 1.0 |\n| 3.5 | 3.7 |\n| 3.9 | 5.5 |\n| 4.4 | 3.2 |\n| 5.1 | 3.0 |\n| 5.6 | 4.9 |\n| 6.3 | 6.3 |\n\n",
            "text/plain": [
              "  weight size\n",
              "1 0.9    1.4 \n",
              "2 1.8    2.6 \n",
              "3 2.4    1.0 \n",
              "4 3.5    3.7 \n",
              "5 3.9    5.5 \n",
              "6 4.4    3.2 \n",
              "7 5.1    3.0 \n",
              "8 5.6    4.9 \n",
              "9 6.3    6.3 "
            ]
          },
          "metadata": {},
          "output_type": "display_data"
        },
        {
          "data": {
            "text/plain": [
              "\n",
              "Call:\n",
              "lm(formula = size ~ weight, data = mouse.data)\n",
              "\n",
              "Residuals:\n",
              "    Min      1Q  Median      3Q     Max \n",
              "-1.5482 -0.8037  0.1186  0.6186  1.8852 \n",
              "\n",
              "Coefficients:\n",
              "            Estimate Std. Error t value Pr(>|t|)  \n",
              "(Intercept)   0.5813     0.9647   0.603   0.5658  \n",
              "weight        0.7778     0.2334   3.332   0.0126 *\n",
              "---\n",
              "Signif. codes:  0 ‘***’ 0.001 ‘**’ 0.01 ‘*’ 0.05 ‘.’ 0.1 ‘ ’ 1\n",
              "\n",
              "Residual standard error: 1.19 on 7 degrees of freedom\n",
              "Multiple R-squared:  0.6133,\tAdjusted R-squared:  0.558 \n",
              "F-statistic:  11.1 on 1 and 7 DF,  p-value: 0.01256\n"
            ]
          },
          "metadata": {},
          "output_type": "display_data"
        },
        {
          "data": {
            "image/png": "[encoded data removed]",
            "text/plain": [
              "plot without title"
            ]
          },
          "metadata": {
            "image/png": {
              "height": 420,
              "width": 420
            }
          },
          "output_type": "display_data"
        }
      ],
      "source": [
        "mouse.data <- data.frame(\n",
        "  weight=c(0.9, 1.8, 2.4, 3.5, 3.9, 4.4, 5.1, 5.6, 6.3),\n",
        "  size=c(1.4, 2.6, 1.0, 3.7, 5.5, 3.2, 3.0, 4.9, 6.3))\n",
        "\n",
        "mouse.data # print the data to the screen in a nice format\n",
        "\n",
        "## plot a x/y scatter plot with the data\n",
        "plot(mouse.data$weight, mouse.data$size)\n",
        "\n",
        "## create a \"linear model\" - that is, do the regression\n",
        "mouse.regression <- lm(size ~ weight, data=mouse.data)\n",
        "## generate a summary of the regression\n",
        "summary(mouse.regression)\n",
        "\n",
        "## add the regression line to our x/y scatter plot\n",
        "abline(mouse.regression, col=\"blue\")"
      ]
    },
    {
      "cell_type": "markdown",
      "source": [
        "# Logistic Regression Implementation"
      ],
      "metadata": {
        "id": "Q2xSW3sap8dC"
      }
    },
    {
      "cell_type": "code",
      "execution_count": null,
      "metadata": {
        "colab": {
          "base_uri": "https://localhost:8080/",
          "height": 286
        },
        "id": "0XLPaGVdJwnw",
        "outputId": "00fa6bc1-37dc-49e4-b403-a35772f6983e"
      },
      "outputs": [
        {
          "output_type": "display_data",
          "data": {
            "text/html": [
              "<table class=\"dataframe\">\n",
              "<caption>A data.frame: 6 × 14</caption>\n",
              "<thead>\n",
              "\t<tr><th></th><th scope=col>V1</th><th scope=col>V2</th><th scope=col>V3</th><th scope=col>V4</th><th scope=col>V5</th><th scope=col>V6</th><th scope=col>V7</th><th scope=col>V8</th><th scope=col>V9</th><th scope=col>V10</th><th scope=col>V11</th><th scope=col>V12</th><th scope=col>V13</th><th scope=col>V14</th></tr>\n",
              "\t<tr><th></th><th scope=col>&lt;dbl&gt;</th><th scope=col>&lt;dbl&gt;</th><th scope=col>&lt;dbl&gt;</th><th scope=col>&lt;dbl&gt;</th><th scope=col>&lt;dbl&gt;</th><th scope=col>&lt;dbl&gt;</th><th scope=col>&lt;dbl&gt;</th><th scope=col>&lt;dbl&gt;</th><th scope=col>&lt;dbl&gt;</th><th scope=col>&lt;dbl&gt;</th><th scope=col>&lt;dbl&gt;</th><th scope=col>&lt;chr&gt;</th><th scope=col>&lt;chr&gt;</th><th scope=col>&lt;int&gt;</th></tr>\n",
              "</thead>\n",
              "<tbody>\n",
              "\t<tr><th scope=row>1</th><td>63</td><td>1</td><td>1</td><td>145</td><td>233</td><td>1</td><td>2</td><td>150</td><td>0</td><td>2.3</td><td>3</td><td>0.0</td><td>6.0</td><td>0</td></tr>\n",
              "\t<tr><th scope=row>2</th><td>67</td><td>1</td><td>4</td><td>160</td><td>286</td><td>0</td><td>2</td><td>108</td><td>1</td><td>1.5</td><td>2</td><td>3.0</td><td>3.0</td><td>2</td></tr>\n",
              "\t<tr><th scope=row>3</th><td>67</td><td>1</td><td>4</td><td>120</td><td>229</td><td>0</td><td>2</td><td>129</td><td>1</td><td>2.6</td><td>2</td><td>2.0</td><td>7.0</td><td>1</td></tr>\n",
              "\t<tr><th scope=row>4</th><td>37</td><td>1</td><td>3</td><td>130</td><td>250</td><td>0</td><td>0</td><td>187</td><td>0</td><td>3.5</td><td>3</td><td>0.0</td><td>3.0</td><td>0</td></tr>\n",
              "\t<tr><th scope=row>5</th><td>41</td><td>0</td><td>2</td><td>130</td><td>204</td><td>0</td><td>2</td><td>172</td><td>0</td><td>1.4</td><td>1</td><td>0.0</td><td>3.0</td><td>0</td></tr>\n",
              "\t<tr><th scope=row>6</th><td>56</td><td>1</td><td>2</td><td>120</td><td>236</td><td>0</td><td>0</td><td>178</td><td>0</td><td>0.8</td><td>1</td><td>0.0</td><td>3.0</td><td>0</td></tr>\n",
              "</tbody>\n",
              "</table>\n"
            ],
            "text/markdown": "\nA data.frame: 6 × 14\n\n| <!--/--> | V1 &lt;dbl&gt; | V2 &lt;dbl&gt; | V3 &lt;dbl&gt; | V4 &lt;dbl&gt; | V5 &lt;dbl&gt; | V6 &lt;dbl&gt; | V7 &lt;dbl&gt; | V8 &lt;dbl&gt; | V9 &lt;dbl&gt; | V10 &lt;dbl&gt; | V11 &lt;dbl&gt; | V12 &lt;chr&gt; | V13 &lt;chr&gt; | V14 &lt;int&gt; |\n|---|---|---|---|---|---|---|---|---|---|---|---|---|---|---|\n| 1 | 63 | 1 | 1 | 145 | 233 | 1 | 2 | 150 | 0 | 2.3 | 3 | 0.0 | 6.0 | 0 |\n| 2 | 67 | 1 | 4 | 160 | 286 | 0 | 2 | 108 | 1 | 1.5 | 2 | 3.0 | 3.0 | 2 |\n| 3 | 67 | 1 | 4 | 120 | 229 | 0 | 2 | 129 | 1 | 2.6 | 2 | 2.0 | 7.0 | 1 |\n| 4 | 37 | 1 | 3 | 130 | 250 | 0 | 0 | 187 | 0 | 3.5 | 3 | 0.0 | 3.0 | 0 |\n| 5 | 41 | 0 | 2 | 130 | 204 | 0 | 2 | 172 | 0 | 1.4 | 1 | 0.0 | 3.0 | 0 |\n| 6 | 56 | 1 | 2 | 120 | 236 | 0 | 0 | 178 | 0 | 0.8 | 1 | 0.0 | 3.0 | 0 |\n\n",
            "text/latex": "A data.frame: 6 × 14\n\\begin{tabular}{r|llllllllllllll}\n  & V1 & V2 & V3 & V4 & V5 & V6 & V7 & V8 & V9 & V10 & V11 & V12 & V13 & V14\\\\\n  & <dbl> & <dbl> & <dbl> & <dbl> & <dbl> & <dbl> & <dbl> & <dbl> & <dbl> & <dbl> & <dbl> & <chr> & <chr> & <int>\\\\\n\\hline\n\t1 & 63 & 1 & 1 & 145 & 233 & 1 & 2 & 150 & 0 & 2.3 & 3 & 0.0 & 6.0 & 0\\\\\n\t2 & 67 & 1 & 4 & 160 & 286 & 0 & 2 & 108 & 1 & 1.5 & 2 & 3.0 & 3.0 & 2\\\\\n\t3 & 67 & 1 & 4 & 120 & 229 & 0 & 2 & 129 & 1 & 2.6 & 2 & 2.0 & 7.0 & 1\\\\\n\t4 & 37 & 1 & 3 & 130 & 250 & 0 & 0 & 187 & 0 & 3.5 & 3 & 0.0 & 3.0 & 0\\\\\n\t5 & 41 & 0 & 2 & 130 & 204 & 0 & 2 & 172 & 0 & 1.4 & 1 & 0.0 & 3.0 & 0\\\\\n\t6 & 56 & 1 & 2 & 120 & 236 & 0 & 0 & 178 & 0 & 0.8 & 1 & 0.0 & 3.0 & 0\\\\\n\\end{tabular}\n",
            "text/plain": [
              "  V1 V2 V3 V4  V5  V6 V7 V8  V9 V10 V11 V12 V13 V14\n",
              "1 63 1  1  145 233 1  2  150 0  2.3 3   0.0 6.0 0  \n",
              "2 67 1  4  160 286 0  2  108 1  1.5 2   3.0 3.0 2  \n",
              "3 67 1  4  120 229 0  2  129 1  2.6 2   2.0 7.0 1  \n",
              "4 37 1  3  130 250 0  0  187 0  3.5 3   0.0 3.0 0  \n",
              "5 41 0  2  130 204 0  2  172 0  1.4 1   0.0 3.0 0  \n",
              "6 56 1  2  120 236 0  0  178 0  0.8 1   0.0 3.0 0  "
            ]
          },
          "metadata": {}
        }
      ],
      "source": [
        "library(ggplot2)\n",
        "library(cowplot)\n",
        "\n",
        "## dataset is from UCI machine repository.\n",
        "url <- \"https://raw.githubusercontent.com/StatQuest/logistic_regression_demo/master/processed.cleveland.data\"\n",
        "\n",
        "data <- read.csv(url, header=FALSE)\n",
        "\n",
        "head(data) # you see data, but no column names\n"
      ]
    },
    {
      "cell_type": "code",
      "source": [
        "nrow(data)"
      ],
      "metadata": {
        "colab": {
          "base_uri": "https://localhost:8080/",
          "height": 34
        },
        "id": "7M6Z2u6dwkN9",
        "outputId": "4f90d416-ca35-4a3b-bf24-f4b04ab7fa9c"
      },
      "execution_count": null,
      "outputs": [
        {
          "output_type": "display_data",
          "data": {
            "text/html": [
              "303"
            ],
            "text/markdown": "303",
            "text/latex": "303",
            "text/plain": [
              "[1] 303"
            ]
          },
          "metadata": {}
        }
      ]
    },
    {
      "cell_type": "code",
      "execution_count": null,
      "metadata": {
        "colab": {
          "base_uri": "https://localhost:8080/",
          "height": 286
        },
        "id": "6t-8dQRfDa0n",
        "outputId": "176d64db-f79b-4887-bc77-9157662eba25"
      },
      "outputs": [
        {
          "output_type": "display_data",
          "data": {
            "text/html": [
              "<table class=\"dataframe\">\n",
              "<caption>A data.frame: 6 × 14</caption>\n",
              "<thead>\n",
              "\t<tr><th></th><th scope=col>age</th><th scope=col>sex</th><th scope=col>cp</th><th scope=col>trestbps</th><th scope=col>chol</th><th scope=col>fbs</th><th scope=col>restecg</th><th scope=col>thalach</th><th scope=col>exang</th><th scope=col>oldpeak</th><th scope=col>slope</th><th scope=col>ca</th><th scope=col>thal</th><th scope=col>hd</th></tr>\n",
              "\t<tr><th></th><th scope=col>&lt;dbl&gt;</th><th scope=col>&lt;dbl&gt;</th><th scope=col>&lt;dbl&gt;</th><th scope=col>&lt;dbl&gt;</th><th scope=col>&lt;dbl&gt;</th><th scope=col>&lt;dbl&gt;</th><th scope=col>&lt;dbl&gt;</th><th scope=col>&lt;dbl&gt;</th><th scope=col>&lt;dbl&gt;</th><th scope=col>&lt;dbl&gt;</th><th scope=col>&lt;dbl&gt;</th><th scope=col>&lt;chr&gt;</th><th scope=col>&lt;chr&gt;</th><th scope=col>&lt;int&gt;</th></tr>\n",
              "</thead>\n",
              "<tbody>\n",
              "\t<tr><th scope=row>1</th><td>63</td><td>1</td><td>1</td><td>145</td><td>233</td><td>1</td><td>2</td><td>150</td><td>0</td><td>2.3</td><td>3</td><td>0.0</td><td>6.0</td><td>0</td></tr>\n",
              "\t<tr><th scope=row>2</th><td>67</td><td>1</td><td>4</td><td>160</td><td>286</td><td>0</td><td>2</td><td>108</td><td>1</td><td>1.5</td><td>2</td><td>3.0</td><td>3.0</td><td>2</td></tr>\n",
              "\t<tr><th scope=row>3</th><td>67</td><td>1</td><td>4</td><td>120</td><td>229</td><td>0</td><td>2</td><td>129</td><td>1</td><td>2.6</td><td>2</td><td>2.0</td><td>7.0</td><td>1</td></tr>\n",
              "\t<tr><th scope=row>4</th><td>37</td><td>1</td><td>3</td><td>130</td><td>250</td><td>0</td><td>0</td><td>187</td><td>0</td><td>3.5</td><td>3</td><td>0.0</td><td>3.0</td><td>0</td></tr>\n",
              "\t<tr><th scope=row>5</th><td>41</td><td>0</td><td>2</td><td>130</td><td>204</td><td>0</td><td>2</td><td>172</td><td>0</td><td>1.4</td><td>1</td><td>0.0</td><td>3.0</td><td>0</td></tr>\n",
              "\t<tr><th scope=row>6</th><td>56</td><td>1</td><td>2</td><td>120</td><td>236</td><td>0</td><td>0</td><td>178</td><td>0</td><td>0.8</td><td>1</td><td>0.0</td><td>3.0</td><td>0</td></tr>\n",
              "</tbody>\n",
              "</table>\n"
            ],
            "text/markdown": "\nA data.frame: 6 × 14\n\n| <!--/--> | age &lt;dbl&gt; | sex &lt;dbl&gt; | cp &lt;dbl&gt; | trestbps &lt;dbl&gt; | chol &lt;dbl&gt; | fbs &lt;dbl&gt; | restecg &lt;dbl&gt; | thalach &lt;dbl&gt; | exang &lt;dbl&gt; | oldpeak &lt;dbl&gt; | slope &lt;dbl&gt; | ca &lt;chr&gt; | thal &lt;chr&gt; | hd &lt;int&gt; |\n|---|---|---|---|---|---|---|---|---|---|---|---|---|---|---|\n| 1 | 63 | 1 | 1 | 145 | 233 | 1 | 2 | 150 | 0 | 2.3 | 3 | 0.0 | 6.0 | 0 |\n| 2 | 67 | 1 | 4 | 160 | 286 | 0 | 2 | 108 | 1 | 1.5 | 2 | 3.0 | 3.0 | 2 |\n| 3 | 67 | 1 | 4 | 120 | 229 | 0 | 2 | 129 | 1 | 2.6 | 2 | 2.0 | 7.0 | 1 |\n| 4 | 37 | 1 | 3 | 130 | 250 | 0 | 0 | 187 | 0 | 3.5 | 3 | 0.0 | 3.0 | 0 |\n| 5 | 41 | 0 | 2 | 130 | 204 | 0 | 2 | 172 | 0 | 1.4 | 1 | 0.0 | 3.0 | 0 |\n| 6 | 56 | 1 | 2 | 120 | 236 | 0 | 0 | 178 | 0 | 0.8 | 1 | 0.0 | 3.0 | 0 |\n\n",
            "text/latex": "A data.frame: 6 × 14\n\\begin{tabular}{r|llllllllllllll}\n  & age & sex & cp & trestbps & chol & fbs & restecg & thalach & exang & oldpeak & slope & ca & thal & hd\\\\\n  & <dbl> & <dbl> & <dbl> & <dbl> & <dbl> & <dbl> & <dbl> & <dbl> & <dbl> & <dbl> & <dbl> & <chr> & <chr> & <int>\\\\\n\\hline\n\t1 & 63 & 1 & 1 & 145 & 233 & 1 & 2 & 150 & 0 & 2.3 & 3 & 0.0 & 6.0 & 0\\\\\n\t2 & 67 & 1 & 4 & 160 & 286 & 0 & 2 & 108 & 1 & 1.5 & 2 & 3.0 & 3.0 & 2\\\\\n\t3 & 67 & 1 & 4 & 120 & 229 & 0 & 2 & 129 & 1 & 2.6 & 2 & 2.0 & 7.0 & 1\\\\\n\t4 & 37 & 1 & 3 & 130 & 250 & 0 & 0 & 187 & 0 & 3.5 & 3 & 0.0 & 3.0 & 0\\\\\n\t5 & 41 & 0 & 2 & 130 & 204 & 0 & 2 & 172 & 0 & 1.4 & 1 & 0.0 & 3.0 & 0\\\\\n\t6 & 56 & 1 & 2 & 120 & 236 & 0 & 0 & 178 & 0 & 0.8 & 1 & 0.0 & 3.0 & 0\\\\\n\\end{tabular}\n",
            "text/plain": [
              "  age sex cp trestbps chol fbs restecg thalach exang oldpeak slope ca  thal hd\n",
              "1 63  1   1  145      233  1   2       150     0     2.3     3     0.0 6.0  0 \n",
              "2 67  1   4  160      286  0   2       108     1     1.5     2     3.0 3.0  2 \n",
              "3 67  1   4  120      229  0   2       129     1     2.6     2     2.0 7.0  1 \n",
              "4 37  1   3  130      250  0   0       187     0     3.5     3     0.0 3.0  0 \n",
              "5 41  0   2  130      204  0   2       172     0     1.4     1     0.0 3.0  0 \n",
              "6 56  1   2  120      236  0   0       178     0     0.8     1     0.0 3.0  0 "
            ]
          },
          "metadata": {}
        }
      ],
      "source": [
        "colnames(data) <- c(\n",
        "  \"age\",\n",
        "  \"sex\",# 0 = female, 1 = male\n",
        "  \"cp\", # chest pain\n",
        "  # 1 = typical angina,\n",
        "  # 2 = atypical angina,\n",
        "  # 3 = non-anginal pain,\n",
        "  # 4 = asymptomatic\n",
        "  \"trestbps\", # resting blood pressure (in mm Hg)\n",
        "  \"chol\", # serum cholestoral in mg/dl\n",
        "  \"fbs\",  # fasting blood sugar if less than 120 mg/dl, 1 = TRUE, 0 = FALSE\n",
        "  \"restecg\", # resting electrocardiographic results\n",
        "  # 1 = normal\n",
        "  # 2 = having ST-T wave abnormality\n",
        "  # 3 = showing probable or definite left ventricular hypertrophy\n",
        "  \"thalach\", # maximum heart rate achieved\n",
        "  \"exang\",   # exercise induced angina, 1 = yes, 0 = no\n",
        "  \"oldpeak\", # ST depression induced by exercise relative to rest\n",
        "  \"slope\", # the slope of the peak exercise ST segment\n",
        "  # 1 = upsloping\n",
        "  # 2 = flat\n",
        "  # 3 = downsloping\n",
        "  \"ca\", # number of major vessels (0-3) colored by fluoroscopy\n",
        "  \"thal\", # this is short of thalium heart scan\n",
        "  # 3 = normal (no cold spots)\n",
        "  # 6 = fixed defect (cold spots during rest and exercise)\n",
        "  # 7 = reversible defect (when cold spots only appear during exercise)\n",
        "  \"hd\" # (the predicted attribute) - diagnosis of heart disease\n",
        "  # 0 if less than or equal to 50% diameter narrowing\n",
        "  # 1 if greater than 50% diameter narrowing\n",
        ")\n",
        "\n",
        "head(data) # now we have data and column names"
      ]
    },
    {
      "cell_type": "code",
      "execution_count": null,
      "metadata": {
        "colab": {
          "base_uri": "https://localhost:8080/"
        },
        "id": "TLFNgRyfGQlp",
        "outputId": "fbeaf470-8eb5-4c02-da5f-76634abd1573"
      },
      "outputs": [
        {
          "output_type": "stream",
          "name": "stdout",
          "text": [
            "'data.frame':\t303 obs. of  14 variables:\n",
            " $ age     : num  63 67 67 37 41 56 62 57 63 53 ...\n",
            " $ sex     : num  1 1 1 1 0 1 0 0 1 1 ...\n",
            " $ cp      : num  1 4 4 3 2 2 4 4 4 4 ...\n",
            " $ trestbps: num  145 160 120 130 130 120 140 120 130 140 ...\n",
            " $ chol    : num  233 286 229 250 204 236 268 354 254 203 ...\n",
            " $ fbs     : num  1 0 0 0 0 0 0 0 0 1 ...\n",
            " $ restecg : num  2 2 2 0 2 0 2 0 2 2 ...\n",
            " $ thalach : num  150 108 129 187 172 178 160 163 147 155 ...\n",
            " $ exang   : num  0 1 1 0 0 0 0 1 0 1 ...\n",
            " $ oldpeak : num  2.3 1.5 2.6 3.5 1.4 0.8 3.6 0.6 1.4 3.1 ...\n",
            " $ slope   : num  3 2 2 3 1 1 3 1 2 3 ...\n",
            " $ ca      : chr  \"0.0\" \"3.0\" \"2.0\" \"0.0\" ...\n",
            " $ thal    : chr  \"6.0\" \"3.0\" \"7.0\" \"3.0\" ...\n",
            " $ hd      : int  0 2 1 0 0 0 3 0 2 1 ...\n",
            "'data.frame':\t303 obs. of  14 variables:\n",
            " $ age     : num  63 67 67 37 41 56 62 57 63 53 ...\n",
            " $ sex     : Factor w/ 2 levels \"F\",\"M\": 2 2 2 2 1 2 1 1 2 2 ...\n",
            " $ cp      : Factor w/ 4 levels \"1\",\"2\",\"3\",\"4\": 1 4 4 3 2 2 4 4 4 4 ...\n",
            " $ trestbps: num  145 160 120 130 130 120 140 120 130 140 ...\n",
            " $ chol    : num  233 286 229 250 204 236 268 354 254 203 ...\n",
            " $ fbs     : Factor w/ 2 levels \"0\",\"1\": 2 1 1 1 1 1 1 1 1 2 ...\n",
            " $ restecg : Factor w/ 3 levels \"0\",\"1\",\"2\": 3 3 3 1 3 1 3 1 3 3 ...\n",
            " $ thalach : num  150 108 129 187 172 178 160 163 147 155 ...\n",
            " $ exang   : Factor w/ 2 levels \"0\",\"1\": 1 2 2 1 1 1 1 2 1 2 ...\n",
            " $ oldpeak : num  2.3 1.5 2.6 3.5 1.4 0.8 3.6 0.6 1.4 3.1 ...\n",
            " $ slope   : Factor w/ 3 levels \"1\",\"2\",\"3\": 3 2 2 3 1 1 3 1 2 3 ...\n",
            " $ ca      : Factor w/ 4 levels \"0\",\"1\",\"2\",\"3\": 1 4 3 1 1 1 3 1 2 1 ...\n",
            " $ thal    : Factor w/ 3 levels \"3\",\"6\",\"7\": 2 1 3 1 1 1 1 1 3 3 ...\n",
            " $ hd      : Factor w/ 2 levels \"Healthy\",\"Unhealthy\": 1 2 2 1 1 1 2 1 2 2 ...\n"
          ]
        }
      ],
      "source": [
        "str(data) # this shows that we need to tell R which columns contain factors\n",
        "# it also shows us that there are some missing values. There are \"?\"s\n",
        "# in the dataset. These are in the \"ca\" and \"thal\" columns...\n",
        "\n",
        "## First, convert \"?\"s to NAs...\n",
        "data[data == \"?\"] <- NA\n",
        "\n",
        "## Now add factors for variables that are factors and clean up the factors\n",
        "## that had missing data...\n",
        "data[data$sex == 0,]$sex <- \"F\"\n",
        "data[data$sex == 1,]$sex <- \"M\"\n",
        "data$sex <- as.factor(data$sex)\n",
        "\n",
        "data$cp <- as.factor(data$cp)\n",
        "data$fbs <- as.factor(data$fbs)\n",
        "data$restecg <- as.factor(data$restecg)\n",
        "data$exang <- as.factor(data$exang)\n",
        "data$slope <- as.factor(data$slope)\n",
        "\n",
        "data$ca <- as.integer(data$ca) # since this column had \"?\"s in it\n",
        "# R thinks that the levels for the factor are strings, but\n",
        "# we know they are integers, so first convert the strings to integers...\n",
        "data$ca <- as.factor(data$ca)  # ...then convert the integers to factor levels\n",
        "\n",
        "data$thal <- as.integer(data$thal) # \"thal\" also had \"?\"s in it.\n",
        "data$thal <- as.factor(data$thal)\n",
        "\n",
        "## This next line replaces 0 and 1 with \"Healthy\" and \"Unhealthy\"\n",
        "data$hd <- ifelse(test=data$hd == 0, yes=\"Healthy\", no=\"Unhealthy\")\n",
        "data$hd <- as.factor(data$hd) # Now convert to a factor\n",
        "\n",
        "\n",
        "str(data) ## this shows that the correct columns are factors\n",
        "\n",
        "\n"
      ]
    },
    {
      "cell_type": "code",
      "source": [
        "\n",
        "## Now determine how many rows have \"NA\" (aka \"Missing data\").\n",
        "nrow(data[is.na(data$ca) | is.na(data$thal),])\n",
        "data[is.na(data$ca) | is.na(data$thal),]\n",
        "## so 6 of the 303 rows of data have missing values. This isn't a large\n",
        "## percentage (2%), so we can just remove them from the dataset\n",
        "## NOTE: This is different from when we did machine learning with\n",
        "## Random Forests. When we did that, we imputed values.\n",
        "nrow(data)\n",
        "data <- data[!(is.na(data$ca) | is.na(data$thal)),]\n",
        "nrow(data)\n",
        "\n"
      ],
      "metadata": {
        "colab": {
          "base_uri": "https://localhost:8080/",
          "height": 338
        },
        "id": "eZefcUwArjG-",
        "outputId": "b22b932e-1d2a-4f43-a8de-810fdecce97b"
      },
      "execution_count": null,
      "outputs": [
        {
          "output_type": "display_data",
          "data": {
            "text/html": [
              "6"
            ],
            "text/markdown": "6",
            "text/latex": "6",
            "text/plain": [
              "[1] 6"
            ]
          },
          "metadata": {}
        },
        {
          "output_type": "display_data",
          "data": {
            "text/html": [
              "<table class=\"dataframe\">\n",
              "<caption>A data.frame: 6 × 14</caption>\n",
              "<thead>\n",
              "\t<tr><th></th><th scope=col>age</th><th scope=col>sex</th><th scope=col>cp</th><th scope=col>trestbps</th><th scope=col>chol</th><th scope=col>fbs</th><th scope=col>restecg</th><th scope=col>thalach</th><th scope=col>exang</th><th scope=col>oldpeak</th><th scope=col>slope</th><th scope=col>ca</th><th scope=col>thal</th><th scope=col>hd</th></tr>\n",
              "\t<tr><th></th><th scope=col>&lt;dbl&gt;</th><th scope=col>&lt;fct&gt;</th><th scope=col>&lt;fct&gt;</th><th scope=col>&lt;dbl&gt;</th><th scope=col>&lt;dbl&gt;</th><th scope=col>&lt;fct&gt;</th><th scope=col>&lt;fct&gt;</th><th scope=col>&lt;dbl&gt;</th><th scope=col>&lt;fct&gt;</th><th scope=col>&lt;dbl&gt;</th><th scope=col>&lt;fct&gt;</th><th scope=col>&lt;fct&gt;</th><th scope=col>&lt;fct&gt;</th><th scope=col>&lt;fct&gt;</th></tr>\n",
              "</thead>\n",
              "<tbody>\n",
              "\t<tr><th scope=row>88</th><td>53</td><td>F</td><td>3</td><td>128</td><td>216</td><td>0</td><td>2</td><td>115</td><td>0</td><td>0.0</td><td>1</td><td>0 </td><td>NA</td><td>Healthy  </td></tr>\n",
              "\t<tr><th scope=row>167</th><td>52</td><td>M</td><td>3</td><td>138</td><td>223</td><td>0</td><td>0</td><td>169</td><td>0</td><td>0.0</td><td>1</td><td>NA</td><td>3 </td><td>Healthy  </td></tr>\n",
              "\t<tr><th scope=row>193</th><td>43</td><td>M</td><td>4</td><td>132</td><td>247</td><td>1</td><td>2</td><td>143</td><td>1</td><td>0.1</td><td>2</td><td>NA</td><td>7 </td><td>Unhealthy</td></tr>\n",
              "\t<tr><th scope=row>267</th><td>52</td><td>M</td><td>4</td><td>128</td><td>204</td><td>1</td><td>0</td><td>156</td><td>1</td><td>1.0</td><td>2</td><td>0 </td><td>NA</td><td>Unhealthy</td></tr>\n",
              "\t<tr><th scope=row>288</th><td>58</td><td>M</td><td>2</td><td>125</td><td>220</td><td>0</td><td>0</td><td>144</td><td>0</td><td>0.4</td><td>2</td><td>NA</td><td>7 </td><td>Healthy  </td></tr>\n",
              "\t<tr><th scope=row>303</th><td>38</td><td>M</td><td>3</td><td>138</td><td>175</td><td>0</td><td>0</td><td>173</td><td>0</td><td>0.0</td><td>1</td><td>NA</td><td>3 </td><td>Healthy  </td></tr>\n",
              "</tbody>\n",
              "</table>\n"
            ],
            "text/markdown": "\nA data.frame: 6 × 14\n\n| <!--/--> | age &lt;dbl&gt; | sex &lt;fct&gt; | cp &lt;fct&gt; | trestbps &lt;dbl&gt; | chol &lt;dbl&gt; | fbs &lt;fct&gt; | restecg &lt;fct&gt; | thalach &lt;dbl&gt; | exang &lt;fct&gt; | oldpeak &lt;dbl&gt; | slope &lt;fct&gt; | ca &lt;fct&gt; | thal &lt;fct&gt; | hd &lt;fct&gt; |\n|---|---|---|---|---|---|---|---|---|---|---|---|---|---|---|\n| 88 | 53 | F | 3 | 128 | 216 | 0 | 2 | 115 | 0 | 0.0 | 1 | 0  | NA | Healthy   |\n| 167 | 52 | M | 3 | 138 | 223 | 0 | 0 | 169 | 0 | 0.0 | 1 | NA | 3  | Healthy   |\n| 193 | 43 | M | 4 | 132 | 247 | 1 | 2 | 143 | 1 | 0.1 | 2 | NA | 7  | Unhealthy |\n| 267 | 52 | M | 4 | 128 | 204 | 1 | 0 | 156 | 1 | 1.0 | 2 | 0  | NA | Unhealthy |\n| 288 | 58 | M | 2 | 125 | 220 | 0 | 0 | 144 | 0 | 0.4 | 2 | NA | 7  | Healthy   |\n| 303 | 38 | M | 3 | 138 | 175 | 0 | 0 | 173 | 0 | 0.0 | 1 | NA | 3  | Healthy   |\n\n",
            "text/latex": "A data.frame: 6 × 14\n\\begin{tabular}{r|llllllllllllll}\n  & age & sex & cp & trestbps & chol & fbs & restecg & thalach & exang & oldpeak & slope & ca & thal & hd\\\\\n  & <dbl> & <fct> & <fct> & <dbl> & <dbl> & <fct> & <fct> & <dbl> & <fct> & <dbl> & <fct> & <fct> & <fct> & <fct>\\\\\n\\hline\n\t88 & 53 & F & 3 & 128 & 216 & 0 & 2 & 115 & 0 & 0.0 & 1 & 0  & NA & Healthy  \\\\\n\t167 & 52 & M & 3 & 138 & 223 & 0 & 0 & 169 & 0 & 0.0 & 1 & NA & 3  & Healthy  \\\\\n\t193 & 43 & M & 4 & 132 & 247 & 1 & 2 & 143 & 1 & 0.1 & 2 & NA & 7  & Unhealthy\\\\\n\t267 & 52 & M & 4 & 128 & 204 & 1 & 0 & 156 & 1 & 1.0 & 2 & 0  & NA & Unhealthy\\\\\n\t288 & 58 & M & 2 & 125 & 220 & 0 & 0 & 144 & 0 & 0.4 & 2 & NA & 7  & Healthy  \\\\\n\t303 & 38 & M & 3 & 138 & 175 & 0 & 0 & 173 & 0 & 0.0 & 1 & NA & 3  & Healthy  \\\\\n\\end{tabular}\n",
            "text/plain": [
              "    age sex cp trestbps chol fbs restecg thalach exang oldpeak slope ca thal\n",
              "88  53  F   3  128      216  0   2       115     0     0.0     1     0  NA  \n",
              "167 52  M   3  138      223  0   0       169     0     0.0     1     NA 3   \n",
              "193 43  M   4  132      247  1   2       143     1     0.1     2     NA 7   \n",
              "267 52  M   4  128      204  1   0       156     1     1.0     2     0  NA  \n",
              "288 58  M   2  125      220  0   0       144     0     0.4     2     NA 7   \n",
              "303 38  M   3  138      175  0   0       173     0     0.0     1     NA 3   \n",
              "    hd       \n",
              "88  Healthy  \n",
              "167 Healthy  \n",
              "193 Unhealthy\n",
              "267 Unhealthy\n",
              "288 Healthy  \n",
              "303 Healthy  "
            ]
          },
          "metadata": {}
        },
        {
          "output_type": "display_data",
          "data": {
            "text/html": [
              "303"
            ],
            "text/markdown": "303",
            "text/latex": "303",
            "text/plain": [
              "[1] 303"
            ]
          },
          "metadata": {}
        },
        {
          "output_type": "display_data",
          "data": {
            "text/html": [
              "297"
            ],
            "text/markdown": "297",
            "text/latex": "297",
            "text/plain": [
              "[1] 297"
            ]
          },
          "metadata": {}
        }
      ]
    },
    {
      "cell_type": "code",
      "source": [
        "#####################################\n",
        "##\n",
        "## Now we can do some quality control by making sure all of the factor\n",
        "## levels are represented by people with and without heart disease (hd)\n",
        "\n",
        "#####################################\n",
        "xtabs(~ hd + sex, data=data)\n",
        "xtabs(~ hd + cp, data=data)\n",
        "xtabs(~ hd + fbs, data=data)\n",
        "xtabs(~ hd + restecg, data=data)\n",
        "xtabs(~ hd + exang, data=data)\n",
        "xtabs(~ hd + slope, data=data)\n",
        "xtabs(~ hd + ca, data=data)\n",
        "xtabs(~ hd + thal, data=data)"
      ],
      "metadata": {
        "colab": {
          "base_uri": "https://localhost:8080/",
          "height": 589
        },
        "id": "zW2A4eFAxHq9",
        "outputId": "ef9296da-3622-4858-89ab-78d9b36e21df"
      },
      "execution_count": null,
      "outputs": [
        {
          "output_type": "display_data",
          "data": {
            "text/plain": [
              "           sex\n",
              "hd            F   M\n",
              "  Healthy    71  89\n",
              "  Unhealthy  25 112"
            ]
          },
          "metadata": {}
        },
        {
          "output_type": "display_data",
          "data": {
            "text/plain": [
              "           cp\n",
              "hd            1   2   3   4\n",
              "  Healthy    16  40  65  39\n",
              "  Unhealthy   7   9  18 103"
            ]
          },
          "metadata": {}
        },
        {
          "output_type": "display_data",
          "data": {
            "text/plain": [
              "           fbs\n",
              "hd            0   1\n",
              "  Healthy   137  23\n",
              "  Unhealthy 117  20"
            ]
          },
          "metadata": {}
        },
        {
          "output_type": "display_data",
          "data": {
            "text/plain": [
              "           restecg\n",
              "hd           0  1  2\n",
              "  Healthy   92  1 67\n",
              "  Unhealthy 55  3 79"
            ]
          },
          "metadata": {}
        },
        {
          "output_type": "display_data",
          "data": {
            "text/plain": [
              "           exang\n",
              "hd            0   1\n",
              "  Healthy   137  23\n",
              "  Unhealthy  63  74"
            ]
          },
          "metadata": {}
        },
        {
          "output_type": "display_data",
          "data": {
            "text/plain": [
              "           slope\n",
              "hd            1   2   3\n",
              "  Healthy   103  48   9\n",
              "  Unhealthy  36  89  12"
            ]
          },
          "metadata": {}
        },
        {
          "output_type": "display_data",
          "data": {
            "text/plain": [
              "           ca\n",
              "hd            0   1   2   3\n",
              "  Healthy   129  21   7   3\n",
              "  Unhealthy  45  44  31  17"
            ]
          },
          "metadata": {}
        },
        {
          "output_type": "display_data",
          "data": {
            "text/plain": [
              "           thal\n",
              "hd            3   6   7\n",
              "  Healthy   127   6  27\n",
              "  Unhealthy  37  12  88"
            ]
          },
          "metadata": {}
        }
      ]
    },
    {
      "cell_type": "code",
      "execution_count": null,
      "metadata": {
        "colab": {
          "base_uri": "https://localhost:8080/",
          "height": 830
        },
        "id": "fR0hHq8sD6JS",
        "outputId": "d3f4fd08-a21a-4072-c474-768fbc221f9b"
      },
      "outputs": [
        {
          "output_type": "display_data",
          "data": {
            "text/plain": [
              "\n",
              "Call:\n",
              "glm(formula = hd ~ sex, family = \"binomial\", data = data)\n",
              "\n",
              "Coefficients:\n",
              "            Estimate Std. Error z value Pr(>|z|)    \n",
              "(Intercept)  -1.0438     0.2326  -4.488 7.18e-06 ***\n",
              "sexM          1.2737     0.2725   4.674 2.95e-06 ***\n",
              "---\n",
              "Signif. codes:  0 ‘***’ 0.001 ‘**’ 0.01 ‘*’ 0.05 ‘.’ 0.1 ‘ ’ 1\n",
              "\n",
              "(Dispersion parameter for binomial family taken to be 1)\n",
              "\n",
              "    Null deviance: 409.95  on 296  degrees of freedom\n",
              "Residual deviance: 386.12  on 295  degrees of freedom\n",
              "AIC: 390.12\n",
              "\n",
              "Number of Fisher Scoring iterations: 4\n"
            ]
          },
          "metadata": {}
        },
        {
          "output_type": "display_data",
          "data": {
            "text/plain": [
              "                   sex\n",
              "probability.of.hd     F   M\n",
              "  0.26041666666724   96   0\n",
              "  0.557213930348259   0 201"
            ]
          },
          "metadata": {}
        },
        {
          "output_type": "display_data",
          "data": {
            "text/plain": [
              "plot without title"
            ],
            "image/png": "[encoded data removed]"
          },
          "metadata": {
            "image/png": {
              "width": 420,
              "height": 420
            }
          }
        }
      ],
      "source": [
        "# Now we are ready for logistic regression\n",
        "\n",
        "logistic <- glm(hd ~ sex, data=data, family=\"binomial\")\n",
        "summary(logistic)\n",
        "\n",
        "## Lastly, let's  see what this logistic regression predicts, given\n",
        "## that a patient is either female or male (and no other data about them).\n",
        "predicted.data <- data.frame(\n",
        "  probability.of.hd=logistic$fitted.values,\n",
        "  sex=data$sex)\n",
        "\n",
        "## We can plot the data...\n",
        "ggplot(data=predicted.data, aes(x=sex, y=probability.of.hd)) +\n",
        "  geom_point(aes(color=sex), size=5) +\n",
        "  xlab(\"Sex\") +\n",
        "  ylab(\"Predicted probability of getting heart disease\")\n",
        "\n",
        "## Since there are only two probabilities (one for females and one for males),\n",
        "## we can use a table to summarize the predicted probabilities.\n",
        "xtabs(~ probability.of.hd + sex, data=predicted.data)\n"
      ]
    },
    {
      "cell_type": "code",
      "execution_count": null,
      "metadata": {
        "colab": {
          "base_uri": "https://localhost:8080/",
          "height": 1000
        },
        "id": "2rO-idl-Fc2K",
        "outputId": "163bdb2b-ab4f-4c85-e821-3a7704f53310"
      },
      "outputs": [
        {
          "output_type": "display_data",
          "data": {
            "text/plain": [
              "\n",
              "Call:\n",
              "glm(formula = hd ~ ., family = \"binomial\", data = data)\n",
              "\n",
              "Coefficients:\n",
              "             Estimate Std. Error z value Pr(>|z|)    \n",
              "(Intercept) -6.253978   2.960399  -2.113 0.034640 *  \n",
              "age         -0.023508   0.025122  -0.936 0.349402    \n",
              "sexM         1.670152   0.552486   3.023 0.002503 ** \n",
              "cp2          1.448396   0.809136   1.790 0.073446 .  \n",
              "cp3          0.393353   0.700338   0.562 0.574347    \n",
              "cp4          2.373287   0.709094   3.347 0.000817 ***\n",
              "trestbps     0.027720   0.011748   2.359 0.018300 *  \n",
              "chol         0.004445   0.004091   1.087 0.277253    \n",
              "fbs1        -0.574079   0.592539  -0.969 0.332622    \n",
              "restecg1     1.000887   2.638393   0.379 0.704424    \n",
              "restecg2     0.486408   0.396327   1.227 0.219713    \n",
              "thalach     -0.019695   0.011717  -1.681 0.092781 .  \n",
              "exang1       0.653306   0.447445   1.460 0.144267    \n",
              "oldpeak      0.390679   0.239173   1.633 0.102373    \n",
              "slope2       1.302289   0.486197   2.679 0.007395 ** \n",
              "slope3       0.606760   0.939324   0.646 0.518309    \n",
              "ca1          2.237444   0.514770   4.346 1.38e-05 ***\n",
              "ca2          3.271852   0.785123   4.167 3.08e-05 ***\n",
              "ca3          2.188715   0.928644   2.357 0.018428 *  \n",
              "thal6       -0.168439   0.810310  -0.208 0.835331    \n",
              "thal7        1.433319   0.440567   3.253 0.001141 ** \n",
              "---\n",
              "Signif. codes:  0 ‘***’ 0.001 ‘**’ 0.01 ‘*’ 0.05 ‘.’ 0.1 ‘ ’ 1\n",
              "\n",
              "(Dispersion parameter for binomial family taken to be 1)\n",
              "\n",
              "    Null deviance: 409.95  on 296  degrees of freedom\n",
              "Residual deviance: 183.10  on 276  degrees of freedom\n",
              "AIC: 225.1\n",
              "\n",
              "Number of Fisher Scoring iterations: 6\n"
            ]
          },
          "metadata": {}
        },
        {
          "output_type": "stream",
          "name": "stderr",
          "text": [
            "\u001b[1m\u001b[22mSaving 6.67 x 6.67 in image\n"
          ]
        },
        {
          "output_type": "display_data",
          "data": {
            "text/plain": [
              "plot without title"
            ],
            "image/png": "[encoded data removed]"
          },
          "metadata": {
            "image/png": {
              "width": 420,
              "height": 420
            }
          }
        }
      ],
      "source": [
        "logistic <- glm(hd ~ ., data=data, family=\"binomial\")\n",
        "summary(logistic)\n",
        "\n",
        "## Now calculate the overall \"Pseudo R-squared\" and its p-value\n",
        "ll.null <- logistic$null.deviance/-2\n",
        "ll.proposed <- logistic$deviance/-2\n",
        "\n",
        "## now we can plot the data\n",
        "predicted.data <- data.frame(\n",
        "  probability.of.hd=logistic$fitted.values,\n",
        "  hd=data$hd)\n",
        "\n",
        "predicted.data <- predicted.data[\n",
        "  order(predicted.data$probability.of.hd, decreasing=FALSE),]\n",
        "predicted.data$rank <- 1:nrow(predicted.data)\n",
        "\n",
        "## Lastly, we can plot the predicted probabilities for each sample having\n",
        "## heart disease and color by whether or not they actually had heart disease\n",
        "ggplot(data=predicted.data, aes(x=rank, y=probability.of.hd)) +\n",
        "  geom_point(aes(color=hd), alpha=1, shape=4, stroke=2) +\n",
        "  xlab(\"Index\") +\n",
        "  ylab(\"Predicted probability of getting heart disease\")\n",
        "\n",
        "ggsave(\"heart_disease_probabilities.pdf\")"
      ]
    },
    {
      "cell_type": "code",
      "execution_count": null,
      "metadata": {
        "colab": {
          "base_uri": "https://localhost:8080/"
        },
        "id": "oQdCUm2DKUhy",
        "outputId": "f38b943e-1830-4b07-e6a3-064f90e276ea"
      },
      "outputs": [
        {
          "name": "stderr",
          "output_type": "stream",
          "text": [
            "Installing package into ‘/usr/local/lib/R/site-library’\n",
            "(as ‘lib’ is unspecified)\n",
            "\n",
            "also installing the dependencies ‘Rcpp’, ‘RcppEigen’, ‘ranger’\n",
            "\n",
            "\n"
          ]
        }
      ],
      "source": [
        "install.packages('Boruta')\n",
        "library(Boruta)\n"
      ]
    },
    {
      "cell_type": "code",
      "execution_count": null,
      "metadata": {
        "colab": {
          "base_uri": "https://localhost:8080/"
        },
        "id": "ENW48DIbKkpP",
        "outputId": "2a0dfddb-63c4-4133-b2f2-a1c25b951390"
      },
      "outputs": [
        {
          "name": "stderr",
          "output_type": "stream",
          "text": [
            "Installing package into ‘/usr/local/lib/R/site-library’\n",
            "(as ‘lib’ is unspecified)\n",
            "\n"
          ]
        }
      ],
      "source": [
        "install.packages(\"randomForest\")"
      ]
    },
    {
      "cell_type": "code",
      "execution_count": null,
      "metadata": {
        "colab": {
          "base_uri": "https://localhost:8080/"
        },
        "id": "UpfrKAOULmS2",
        "outputId": "e28fd73e-649c-4ecc-a410-95f0f8ba0118"
      },
      "outputs": [
        {
          "output_type": "stream",
          "name": "stderr",
          "text": [
            "Installing package into ‘/usr/local/lib/R/site-library’\n",
            "(as ‘lib’ is unspecified)\n",
            "\n"
          ]
        }
      ],
      "source": [
        "install.packages(\"ggplot2\")"
      ]
    },
    {
      "cell_type": "code",
      "execution_count": null,
      "metadata": {
        "colab": {
          "base_uri": "https://localhost:8080/"
        },
        "id": "TN-MCiGoG3Hv",
        "outputId": "f6886dd4-7a5c-41a4-b65b-c0ca8f383749"
      },
      "outputs": [
        {
          "name": "stderr",
          "output_type": "stream",
          "text": [
            "Installing package into ‘/usr/local/lib/R/site-library’\n",
            "(as ‘lib’ is unspecified)\n",
            "\n"
          ]
        }
      ],
      "source": [
        "install.packages(\"cowplot\")"
      ]
    },
    {
      "cell_type": "code",
      "execution_count": null,
      "metadata": {
        "colab": {
          "base_uri": "https://localhost:8080/"
        },
        "id": "ADLA4GfzSMGx",
        "outputId": "fdacf2a9-b587-4a51-a82e-82de9422833e"
      },
      "outputs": [
        {
          "output_type": "stream",
          "name": "stderr",
          "text": [
            "Installing package into ‘/usr/local/lib/R/site-library’\n",
            "(as ‘lib’ is unspecified)\n",
            "\n"
          ]
        }
      ],
      "source": [
        "install.packages(\"caret\")"
      ]
    },
    {
      "cell_type": "code",
      "source": [
        "install.packages(\"randomForest\")"
      ],
      "metadata": {
        "id": "NC--wWwxfPhE",
        "colab": {
          "base_uri": "https://localhost:8080/"
        },
        "outputId": "bdcb5c13-b218-42c8-ed13-a956199e351e"
      },
      "execution_count": null,
      "outputs": [
        {
          "output_type": "stream",
          "name": "stderr",
          "text": [
            "Installing package into ‘/usr/local/lib/R/site-library’\n",
            "(as ‘lib’ is unspecified)\n",
            "\n"
          ]
        }
      ]
    },
    {
      "cell_type": "markdown",
      "source": [
        "# Implementing Random Forest on Custom Dataset"
      ],
      "metadata": {
        "id": "bxHW4DpfpknG"
      }
    },
    {
      "cell_type": "code",
      "execution_count": null,
      "metadata": {
        "colab": {
          "base_uri": "https://localhost:8080/",
          "height": 715
        },
        "id": "rcfyQByONJLE",
        "outputId": "2dd552d0-9a1b-4480-ec63-6185af9d9f82"
      },
      "outputs": [
        {
          "output_type": "display_data",
          "data": {
            "text/html": [
              "<table class=\"dataframe\">\n",
              "<caption>A data.frame: 6 × 12</caption>\n",
              "<thead>\n",
              "\t<tr><th></th><th scope=col>PassengerId</th><th scope=col>Survived</th><th scope=col>Pclass</th><th scope=col>Name</th><th scope=col>Sex</th><th scope=col>Age</th><th scope=col>SibSp</th><th scope=col>Parch</th><th scope=col>Ticket</th><th scope=col>Fare</th><th scope=col>Cabin</th><th scope=col>Embarked</th></tr>\n",
              "\t<tr><th></th><th scope=col>&lt;int&gt;</th><th scope=col>&lt;int&gt;</th><th scope=col>&lt;int&gt;</th><th scope=col>&lt;chr&gt;</th><th scope=col>&lt;chr&gt;</th><th scope=col>&lt;dbl&gt;</th><th scope=col>&lt;int&gt;</th><th scope=col>&lt;int&gt;</th><th scope=col>&lt;chr&gt;</th><th scope=col>&lt;dbl&gt;</th><th scope=col>&lt;chr&gt;</th><th scope=col>&lt;chr&gt;</th></tr>\n",
              "</thead>\n",
              "<tbody>\n",
              "\t<tr><th scope=row>1</th><td>1</td><td>0</td><td>3</td><td>Braund, Mr. Owen Harris                            </td><td>male  </td><td>22</td><td>1</td><td>0</td><td>A/5 21171       </td><td> 7.2500</td><td>    </td><td>S</td></tr>\n",
              "\t<tr><th scope=row>2</th><td>2</td><td>1</td><td>1</td><td>Cumings, Mrs. John Bradley (Florence Briggs Thayer)</td><td>female</td><td>38</td><td>1</td><td>0</td><td>PC 17599        </td><td>71.2833</td><td>C85 </td><td>C</td></tr>\n",
              "\t<tr><th scope=row>3</th><td>3</td><td>1</td><td>3</td><td>Heikkinen, Miss. Laina                             </td><td>female</td><td>26</td><td>0</td><td>0</td><td>STON/O2. 3101282</td><td> 7.9250</td><td>    </td><td>S</td></tr>\n",
              "\t<tr><th scope=row>4</th><td>4</td><td>1</td><td>1</td><td>Futrelle, Mrs. Jacques Heath (Lily May Peel)       </td><td>female</td><td>35</td><td>1</td><td>0</td><td>113803          </td><td>53.1000</td><td>C123</td><td>S</td></tr>\n",
              "\t<tr><th scope=row>5</th><td>5</td><td>0</td><td>3</td><td>Allen, Mr. William Henry                           </td><td>male  </td><td>35</td><td>0</td><td>0</td><td>373450          </td><td> 8.0500</td><td>    </td><td>S</td></tr>\n",
              "\t<tr><th scope=row>6</th><td>6</td><td>0</td><td>3</td><td>Moran, Mr. James                                   </td><td>male  </td><td>NA</td><td>0</td><td>0</td><td>330877          </td><td> 8.4583</td><td>    </td><td>Q</td></tr>\n",
              "</tbody>\n",
              "</table>\n"
            ],
            "text/markdown": "\nA data.frame: 6 × 12\n\n| <!--/--> | PassengerId &lt;int&gt; | Survived &lt;int&gt; | Pclass &lt;int&gt; | Name &lt;chr&gt; | Sex &lt;chr&gt; | Age &lt;dbl&gt; | SibSp &lt;int&gt; | Parch &lt;int&gt; | Ticket &lt;chr&gt; | Fare &lt;dbl&gt; | Cabin &lt;chr&gt; | Embarked &lt;chr&gt; |\n|---|---|---|---|---|---|---|---|---|---|---|---|---|\n| 1 | 1 | 0 | 3 | Braund, Mr. Owen Harris                             | male   | 22 | 1 | 0 | A/5 21171        |  7.2500 | <!----> | S |\n| 2 | 2 | 1 | 1 | Cumings, Mrs. John Bradley (Florence Briggs Thayer) | female | 38 | 1 | 0 | PC 17599         | 71.2833 | C85  | C |\n| 3 | 3 | 1 | 3 | Heikkinen, Miss. Laina                              | female | 26 | 0 | 0 | STON/O2. 3101282 |  7.9250 | <!----> | S |\n| 4 | 4 | 1 | 1 | Futrelle, Mrs. Jacques Heath (Lily May Peel)        | female | 35 | 1 | 0 | 113803           | 53.1000 | C123 | S |\n| 5 | 5 | 0 | 3 | Allen, Mr. William Henry                            | male   | 35 | 0 | 0 | 373450           |  8.0500 | <!----> | S |\n| 6 | 6 | 0 | 3 | Moran, Mr. James                                    | male   | NA | 0 | 0 | 330877           |  8.4583 | <!----> | Q |\n\n",
            "text/latex": "A data.frame: 6 × 12\n\\begin{tabular}{r|llllllllllll}\n  & PassengerId & Survived & Pclass & Name & Sex & Age & SibSp & Parch & Ticket & Fare & Cabin & Embarked\\\\\n  & <int> & <int> & <int> & <chr> & <chr> & <dbl> & <int> & <int> & <chr> & <dbl> & <chr> & <chr>\\\\\n\\hline\n\t1 & 1 & 0 & 3 & Braund, Mr. Owen Harris                             & male   & 22 & 1 & 0 & A/5 21171        &  7.2500 &      & S\\\\\n\t2 & 2 & 1 & 1 & Cumings, Mrs. John Bradley (Florence Briggs Thayer) & female & 38 & 1 & 0 & PC 17599         & 71.2833 & C85  & C\\\\\n\t3 & 3 & 1 & 3 & Heikkinen, Miss. Laina                              & female & 26 & 0 & 0 & STON/O2. 3101282 &  7.9250 &      & S\\\\\n\t4 & 4 & 1 & 1 & Futrelle, Mrs. Jacques Heath (Lily May Peel)        & female & 35 & 1 & 0 & 113803           & 53.1000 & C123 & S\\\\\n\t5 & 5 & 0 & 3 & Allen, Mr. William Henry                            & male   & 35 & 0 & 0 & 373450           &  8.0500 &      & S\\\\\n\t6 & 6 & 0 & 3 & Moran, Mr. James                                    & male   & NA & 0 & 0 & 330877           &  8.4583 &      & Q\\\\\n\\end{tabular}\n",
            "text/plain": [
              "  PassengerId Survived Pclass\n",
              "1 1           0        3     \n",
              "2 2           1        1     \n",
              "3 3           1        3     \n",
              "4 4           1        1     \n",
              "5 5           0        3     \n",
              "6 6           0        3     \n",
              "  Name                                                Sex    Age SibSp Parch\n",
              "1 Braund, Mr. Owen Harris                             male   22  1     0    \n",
              "2 Cumings, Mrs. John Bradley (Florence Briggs Thayer) female 38  1     0    \n",
              "3 Heikkinen, Miss. Laina                              female 26  0     0    \n",
              "4 Futrelle, Mrs. Jacques Heath (Lily May Peel)        female 35  1     0    \n",
              "5 Allen, Mr. William Henry                            male   35  0     0    \n",
              "6 Moran, Mr. James                                    male   NA  0     0    \n",
              "  Ticket           Fare    Cabin Embarked\n",
              "1 A/5 21171         7.2500       S       \n",
              "2 PC 17599         71.2833 C85   C       \n",
              "3 STON/O2. 3101282  7.9250       S       \n",
              "4 113803           53.1000 C123  S       \n",
              "5 373450            8.0500       S       \n",
              "6 330877            8.4583       Q       "
            ]
          },
          "metadata": {}
        },
        {
          "output_type": "display_data",
          "data": {
            "text/plain": [
              "  PassengerId       Survived          Pclass          Name          \n",
              " Min.   :  1.0   Min.   :0.0000   Min.   :1.000   Length:891        \n",
              " 1st Qu.:223.5   1st Qu.:0.0000   1st Qu.:2.000   Class :character  \n",
              " Median :446.0   Median :0.0000   Median :3.000   Mode  :character  \n",
              " Mean   :446.0   Mean   :0.3838   Mean   :2.309                     \n",
              " 3rd Qu.:668.5   3rd Qu.:1.0000   3rd Qu.:3.000                     \n",
              " Max.   :891.0   Max.   :1.0000   Max.   :3.000                     \n",
              "                                                                    \n",
              "     Sex                 Age            SibSp           Parch       \n",
              " Length:891         Min.   : 0.42   Min.   :0.000   Min.   :0.0000  \n",
              " Class :character   1st Qu.:20.12   1st Qu.:0.000   1st Qu.:0.0000  \n",
              " Mode  :character   Median :28.00   Median :0.000   Median :0.0000  \n",
              "                    Mean   :29.70   Mean   :0.523   Mean   :0.3816  \n",
              "                    3rd Qu.:38.00   3rd Qu.:1.000   3rd Qu.:0.0000  \n",
              "                    Max.   :80.00   Max.   :8.000   Max.   :6.0000  \n",
              "                    NA's   :177                                     \n",
              "    Ticket               Fare           Cabin             Embarked        \n",
              " Length:891         Min.   :  0.00   Length:891         Length:891        \n",
              " Class :character   1st Qu.:  7.91   Class :character   Class :character  \n",
              " Mode  :character   Median : 14.45   Mode  :character   Mode  :character  \n",
              "                    Mean   : 32.20                                        \n",
              "                    3rd Qu.: 31.00                                        \n",
              "                    Max.   :512.33                                        \n",
              "                                                                          "
            ]
          },
          "metadata": {}
        }
      ],
      "source": [
        "# Load required libraries\n",
        "library(randomForest)\n",
        "library(caret)\n",
        "library(ggplot2)\n",
        "\n",
        "# Load the Titanic dataset\n",
        "titanic <- read.csv(\"titanic.csv\")\n",
        "\n",
        "# Explore the dataset\n",
        "head(titanic)\n",
        "summary(titanic)\n",
        "\n",
        "# Convert Survived to factor\n",
        "titanic$Survived <- factor(titanic$Survived)\n",
        "\n",
        "# Handle missing values\n",
        "titanic$Age[is.na(titanic$Age)] <- mean(titanic$Age, na.rm = TRUE)\n",
        "titanic$Fare[is.na(titanic$Fare)] <- mean(titanic$Fare, na.rm = TRUE)\n",
        "titanic$Embarked[is.na(titanic$Embarked)] <- \"Unknown\"\n",
        "\n",
        "\n",
        "\n"
      ]
    },
    {
      "cell_type": "code",
      "execution_count": null,
      "metadata": {
        "id": "2wdS4v3vSHzp",
        "colab": {
          "base_uri": "https://localhost:8080/",
          "height": 857
        },
        "outputId": "f8cfb310-379a-4107-ee3f-75d289e009c8"
      },
      "outputs": [
        {
          "output_type": "display_data",
          "data": {
            "text/plain": [
              "plot without title"
            ],
            "image/png": "[encoded data removed]"
          },
          "metadata": {
            "image/png": {
              "width": 420,
              "height": 420
            }
          }
        },
        {
          "output_type": "display_data",
          "data": {
            "text/plain": [
              "plot without title"
            ],
            "image/png": "[encoded data removed]"
          },
          "metadata": {
            "image/png": {
              "width": 420,
              "height": 420
            }
          }
        }
      ],
      "source": [
        "# Data Visualization\n",
        "# Barplot of Survived by Sex\n",
        "ggplot(titanic, aes(x = Sex, fill = Survived)) +\n",
        "  geom_bar(position = \"dodge\") +\n",
        "  labs(x = \"Sex\", y = \"Count\", fill = \"Survived\", title = \"Barplot of Survived by Sex\") +\n",
        "  theme_minimal()\n",
        "\n",
        "# Barplot of Survived by Pclass\n",
        "ggplot(titanic, aes(x = factor(Pclass), fill = Survived)) +\n",
        "  geom_bar(position = \"dodge\") +\n",
        "  labs(x = \"Pclass\", y = \"Count\", fill = \"Survived\", title = \"Barplot of Survived by Pclass\") +\n",
        "  theme_minimal()\n",
        "\n",
        "\n",
        "\n",
        "\n"
      ]
    },
    {
      "cell_type": "code",
      "source": [
        "# Perform feature selection using caret package (wrapper method)\n",
        "set.seed(123)\n",
        "\n",
        "# rfe stands for recursive feature elimination\n",
        "ctrl <- rfeControl(functions = rfFuncs, method = \"cv\", number = 10) #cv is cross-validation and number denotes no. of folds.\n",
        "feature_selection <- rfe(titanic[, -c(1, 4, 9)], titanic$Survived, sizes = c(3:8), rfeControl = ctrl)#excluding PassengerId,Name,Ticket\n",
        "\n",
        "# Get selected features\n",
        "selected_features <- feature_selection$optVariables\n",
        "selected_features\n",
        "\n",
        "# Subset the data with selected features\n",
        "titanic_subset <- titanic[, c(\"Survived\", selected_features)]\n",
        "\n",
        "# Split data into training and testing sets\n",
        "set.seed(456)\n",
        "train_index <- createDataPartition(titanic_subset$Survived, p = 0.7, list = FALSE)\n",
        "train_data <- titanic_subset[train_index, ]\n",
        "test_data <- titanic_subset[-train_index, ]\n",
        "\n",
        "# Train Random Forest model\n",
        "rf_model <- randomForest(Survived ~ ., data = train_data, ntree = 500)\n",
        "\n",
        "# Predict on test data\n",
        "predictions <- predict(rf_model, newdata = test_data)"
      ],
      "metadata": {
        "colab": {
          "base_uri": "https://localhost:8080/",
          "height": 34
        },
        "id": "Ib3X1h36kYVG",
        "outputId": "de485c31-5fde-40ae-f341-3b42fcecd13f"
      },
      "execution_count": null,
      "outputs": [
        {
          "output_type": "display_data",
          "data": {
            "text/html": [
              "<style>\n",
              ".list-inline {list-style: none; margin:0; padding: 0}\n",
              ".list-inline>li {display: inline-block}\n",
              ".list-inline>li:not(:last-child)::after {content: \"\\00b7\"; padding: 0 .5ex}\n",
              "</style>\n",
              "<ol class=list-inline><li>'Survived'</li><li>'Sex'</li><li>'Fare'</li></ol>\n"
            ],
            "text/markdown": "1. 'Survived'\n2. 'Sex'\n3. 'Fare'\n\n\n",
            "text/latex": "\\begin{enumerate*}\n\\item 'Survived'\n\\item 'Sex'\n\\item 'Fare'\n\\end{enumerate*}\n",
            "text/plain": [
              "[1] \"Survived\" \"Sex\"      \"Fare\"    "
            ]
          },
          "metadata": {}
        }
      ]
    },
    {
      "cell_type": "code",
      "source": [
        "# Model evaluation\n",
        "confusion_matrix <- table(test_data$Survived, predictions)\n",
        "accuracy <- sum(diag(confusion_matrix)) / sum(confusion_matrix)\n",
        "accuracy\n",
        "\n",
        "# Data Visualization of model performance\n",
        "# Confusion Matrix\n",
        "# Data Visualization of model performance\n",
        "# Confusion Matrix\n",
        "confusion_matrix <- as.data.frame(confusion_matrix)\n",
        "colnames(confusion_matrix) <- c(\"Actual\", \"Predicted\", \"Frequency\")\n",
        "\n",
        "confusion_matrix_plot <- ggplot(confusion_matrix, aes(x = Actual, y = Predicted, fill = Frequency)) +\n",
        "  geom_tile(color = \"white\") +\n",
        "  geom_text(aes(label = sprintf(\"%1.0f\", Frequency)), vjust = 1) +\n",
        "  labs(x = \"Actual\", y = \"Predicted\", fill = \"Frequency\", title = \"Confusion Matrix\") +\n",
        "  theme_minimal() +\n",
        "  theme(axis.text.x = element_text(angle = 45, hjust = 1))\n",
        "\n",
        "print(confusion_matrix_plot)"
      ],
      "metadata": {
        "colab": {
          "base_uri": "https://localhost:8080/",
          "height": 454
        },
        "id": "2T8sCvEQkZMc",
        "outputId": "380efc7a-4782-4fe2-cbac-ef4e876d1522"
      },
      "execution_count": null,
      "outputs": [
        {
          "output_type": "display_data",
          "data": {
            "text/html": [
              "1"
            ],
            "text/markdown": "1",
            "text/latex": "1",
            "text/plain": [
              "[1] 1"
            ]
          },
          "metadata": {}
        },
        {
          "output_type": "display_data",
          "data": {
            "text/plain": [
              "plot without title"
            ],
            "image/png": "[encoded data removed]"
          },
          "metadata": {
            "image/png": {
              "width": 420,
              "height": 420
            }
          }
        }
      ]
    },
    {
      "cell_type": "code",
      "source": [],
      "metadata": {
        "id": "k-bm3-uj22_p"
      },
      "execution_count": null,
      "outputs": []
    }
  ],
  "metadata": {
    "colab": {
      "provenance": []
    },
    "kernelspec": {
      "display_name": "R",
      "name": "ir"
    },
    "language_info": {
      "name": "R"
    }
  },
  "nbformat": 4,
  "nbformat_minor": 0
}